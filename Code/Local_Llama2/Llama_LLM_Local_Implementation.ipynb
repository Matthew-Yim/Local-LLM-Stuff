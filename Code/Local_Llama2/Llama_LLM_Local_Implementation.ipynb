{
 "cells": [
  {
   "cell_type": "code",
   "execution_count": 3,
   "metadata": {},
   "outputs": [],
   "source": [
    "import langchain"
   ]
  },
  {
   "cell_type": "code",
   "execution_count": 5,
   "metadata": {},
   "outputs": [
    {
     "name": "stderr",
     "output_type": "stream",
     "text": [
      "/home/matthew/anaconda3/envs/langChainEnv/lib/python3.9/site-packages/langchain_core/_api/deprecation.py:117: LangChainDeprecationWarning: The function `__call__` was deprecated in LangChain 0.1.7 and will be removed in 0.2.0. Use invoke instead.\n",
      "  warn_deprecated(\n"
     ]
    },
    {
     "name": "stdout",
     "output_type": "stream",
     "text": [
      "\n",
      "*chews on a banana* Mmmm, these are so good! *burps* Excuse me. Did you want something?\n"
     ]
    }
   ],
   "source": [
    "from langchain.llms import Ollama\n",
    "ollama = Ollama(base_url='http://localhost:11434', model=\"llama2\")\n",
    "print(ollama(\"banana\"))"
   ]
  },
  {
   "cell_type": "markdown",
   "metadata": {},
   "source": [
    "Invocation of Ollama: The line print(ollama(\"banana\")) invokes the Ollama instance with the input \"banana\". This operation involves the execution of the LLM, which is a significant operation that LangSmith can trace."
   ]
  },
  {
   "cell_type": "markdown",
   "metadata": {},
   "source": [
    "Given that LangSmith is designed to log traces of operations involving LLMs and other complex operations, the invocation of the Ollama model with the input \"banana\" would be recognized and logged by LangSmith, provided that the environment variables for LangSmith are correctly set up. This setup allows LangChain to automatically log the execution of the LLM operation to LangSmith, offering insights into the performance and behavior of the application"
   ]
  }
 ],
 "metadata": {
  "kernelspec": {
   "display_name": "langChainEnv",
   "language": "python",
   "name": "python3"
  },
  "language_info": {
   "codemirror_mode": {
    "name": "ipython",
    "version": 3
   },
   "file_extension": ".py",
   "mimetype": "text/x-python",
   "name": "python",
   "nbconvert_exporter": "python",
   "pygments_lexer": "ipython3",
   "version": "3.9.19"
  }
 },
 "nbformat": 4,
 "nbformat_minor": 2
}
